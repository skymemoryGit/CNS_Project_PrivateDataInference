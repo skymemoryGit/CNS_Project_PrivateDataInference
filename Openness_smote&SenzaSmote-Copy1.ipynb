{
 "cells": [
  {
   "cell_type": "markdown",
   "metadata": {},
   "source": [
    "# Data Loading and Preprocessing\n",
    "\n",
    "We consider the same notebook used in the labs, containing house sale prices for King County, which includes Seattle. It includes homes sold between May 2014 and May 2015.\n",
    "\n",
    "https://www.kaggle.com/harlfoxem/housesalesprediction\n",
    "\n",
    "For each house we know 18 house features (e.g., number of bedrooms, number of bathrooms, etc.) plus its price, that is what we would like to predict."
   ]
  },
  {
   "cell_type": "markdown",
   "metadata": {},
   "source": [
    "## TO DO: Insert your ID number (\"numero di matricola\") below"
   ]
  },
  {
   "cell_type": "code",
   "execution_count": 6,
   "metadata": {},
   "outputs": [],
   "source": [
    "#put here your ``numero di matricola''\n",
    "numero_di_matricola = 55"
   ]
  },
  {
   "cell_type": "markdown",
   "metadata": {},
   "source": [
    "Load the required packages"
   ]
  },
  {
   "cell_type": "code",
   "execution_count": 7,
   "metadata": {},
   "outputs": [],
   "source": [
    "#import all packages needed\n",
    "%matplotlib inline\n",
    "import pandas as pd\n",
    "import numpy as np\n",
    "import matplotlib.pyplot as plt"
   ]
  },
  {
   "cell_type": "markdown",
   "metadata": {},
   "source": [
    "Read the data, remove data samples/points with missing values (NaN), and print some statistics."
   ]
  },
  {
   "cell_type": "code",
   "execution_count": 8,
   "metadata": {
    "scrolled": false
   },
   "outputs": [
    {
     "data": {
      "text/html": [
       "<div>\n",
       "<style scoped>\n",
       "    .dataframe tbody tr th:only-of-type {\n",
       "        vertical-align: middle;\n",
       "    }\n",
       "\n",
       "    .dataframe tbody tr th {\n",
       "        vertical-align: top;\n",
       "    }\n",
       "\n",
       "    .dataframe thead th {\n",
       "        text-align: right;\n",
       "    }\n",
       "</style>\n",
       "<table border=\"1\" class=\"dataframe\">\n",
       "  <thead>\n",
       "    <tr style=\"text-align: right;\">\n",
       "      <th></th>\n",
       "      <th>match_id</th>\n",
       "      <th>account_id</th>\n",
       "      <th>player_slot</th>\n",
       "      <th>Num messaggi tot</th>\n",
       "      <th>% messaggi player</th>\n",
       "      <th>% messaggi tattici</th>\n",
       "      <th>% messaggi wheel</th>\n",
       "      <th>% messaggi custom</th>\n",
       "      <th>lung media custom</th>\n",
       "      <th>Num capital char</th>\n",
       "      <th>...</th>\n",
       "      <th>Num escalamzioni!</th>\n",
       "      <th>Num messaggi post kill</th>\n",
       "      <th>Rank num messaggi</th>\n",
       "      <th>age</th>\n",
       "      <th>economic</th>\n",
       "      <th>extroversion</th>\n",
       "      <th>agreeableness</th>\n",
       "      <th>conscientiousness</th>\n",
       "      <th>neuroticism</th>\n",
       "      <th>openness</th>\n",
       "    </tr>\n",
       "  </thead>\n",
       "  <tbody>\n",
       "    <tr>\n",
       "      <th>count</th>\n",
       "      <td>2.627600e+04</td>\n",
       "      <td>2.627600e+04</td>\n",
       "      <td>26276.000000</td>\n",
       "      <td>26276.000000</td>\n",
       "      <td>26276.000000</td>\n",
       "      <td>26276.000000</td>\n",
       "      <td>26276.000000</td>\n",
       "      <td>26276.000000</td>\n",
       "      <td>26276.000000</td>\n",
       "      <td>26276.000000</td>\n",
       "      <td>...</td>\n",
       "      <td>26276.000000</td>\n",
       "      <td>26276.000000</td>\n",
       "      <td>26276.000000</td>\n",
       "      <td>26276.000000</td>\n",
       "      <td>26276.000000</td>\n",
       "      <td>26276.000000</td>\n",
       "      <td>26276.000000</td>\n",
       "      <td>26276.000000</td>\n",
       "      <td>26276.000000</td>\n",
       "      <td>26276.000000</td>\n",
       "    </tr>\n",
       "    <tr>\n",
       "      <th>mean</th>\n",
       "      <td>5.183239e+09</td>\n",
       "      <td>1.926577e+08</td>\n",
       "      <td>66.149947</td>\n",
       "      <td>66.998364</td>\n",
       "      <td>10.615086</td>\n",
       "      <td>2.888263</td>\n",
       "      <td>63.002017</td>\n",
       "      <td>24.633810</td>\n",
       "      <td>4.857322</td>\n",
       "      <td>0.295897</td>\n",
       "      <td>...</td>\n",
       "      <td>0.003387</td>\n",
       "      <td>1.605419</td>\n",
       "      <td>6.124144</td>\n",
       "      <td>23.170041</td>\n",
       "      <td>2.990257</td>\n",
       "      <td>47.614934</td>\n",
       "      <td>61.207946</td>\n",
       "      <td>48.963845</td>\n",
       "      <td>41.493644</td>\n",
       "      <td>1.770247</td>\n",
       "    </tr>\n",
       "    <tr>\n",
       "      <th>std</th>\n",
       "      <td>4.734065e+07</td>\n",
       "      <td>1.806904e+08</td>\n",
       "      <td>64.006961</td>\n",
       "      <td>46.641531</td>\n",
       "      <td>12.654521</td>\n",
       "      <td>6.397222</td>\n",
       "      <td>40.007557</td>\n",
       "      <td>33.723487</td>\n",
       "      <td>7.571231</td>\n",
       "      <td>1.637645</td>\n",
       "      <td>...</td>\n",
       "      <td>0.101876</td>\n",
       "      <td>3.295454</td>\n",
       "      <td>3.052718</td>\n",
       "      <td>4.489244</td>\n",
       "      <td>0.842440</td>\n",
       "      <td>22.954460</td>\n",
       "      <td>22.303255</td>\n",
       "      <td>21.461427</td>\n",
       "      <td>25.140774</td>\n",
       "      <td>0.867995</td>\n",
       "    </tr>\n",
       "    <tr>\n",
       "      <th>min</th>\n",
       "      <td>0.000000e+00</td>\n",
       "      <td>1.110000e+02</td>\n",
       "      <td>0.000000</td>\n",
       "      <td>0.000000</td>\n",
       "      <td>0.000000</td>\n",
       "      <td>0.000000</td>\n",
       "      <td>0.000000</td>\n",
       "      <td>0.000000</td>\n",
       "      <td>0.000000</td>\n",
       "      <td>0.000000</td>\n",
       "      <td>...</td>\n",
       "      <td>0.000000</td>\n",
       "      <td>0.000000</td>\n",
       "      <td>1.000000</td>\n",
       "      <td>13.000000</td>\n",
       "      <td>1.000000</td>\n",
       "      <td>0.000000</td>\n",
       "      <td>0.000000</td>\n",
       "      <td>0.000000</td>\n",
       "      <td>0.000000</td>\n",
       "      <td>0.000000</td>\n",
       "    </tr>\n",
       "    <tr>\n",
       "      <th>25%</th>\n",
       "      <td>5.171207e+09</td>\n",
       "      <td>9.580534e+07</td>\n",
       "      <td>2.000000</td>\n",
       "      <td>35.000000</td>\n",
       "      <td>1.000000</td>\n",
       "      <td>0.000000</td>\n",
       "      <td>25.000000</td>\n",
       "      <td>0.000000</td>\n",
       "      <td>0.000000</td>\n",
       "      <td>0.000000</td>\n",
       "      <td>...</td>\n",
       "      <td>0.000000</td>\n",
       "      <td>0.000000</td>\n",
       "      <td>4.000000</td>\n",
       "      <td>20.000000</td>\n",
       "      <td>3.000000</td>\n",
       "      <td>37.000000</td>\n",
       "      <td>50.000000</td>\n",
       "      <td>37.000000</td>\n",
       "      <td>25.000000</td>\n",
       "      <td>1.000000</td>\n",
       "    </tr>\n",
       "    <tr>\n",
       "      <th>50%</th>\n",
       "      <td>5.183739e+09</td>\n",
       "      <td>1.308325e+08</td>\n",
       "      <td>128.000000</td>\n",
       "      <td>56.000000</td>\n",
       "      <td>6.000000</td>\n",
       "      <td>0.000000</td>\n",
       "      <td>80.000000</td>\n",
       "      <td>5.000000</td>\n",
       "      <td>2.000000</td>\n",
       "      <td>0.000000</td>\n",
       "      <td>...</td>\n",
       "      <td>0.000000</td>\n",
       "      <td>0.000000</td>\n",
       "      <td>7.000000</td>\n",
       "      <td>23.000000</td>\n",
       "      <td>3.000000</td>\n",
       "      <td>50.000000</td>\n",
       "      <td>62.000000</td>\n",
       "      <td>50.000000</td>\n",
       "      <td>37.000000</td>\n",
       "      <td>2.000000</td>\n",
       "    </tr>\n",
       "    <tr>\n",
       "      <th>75%</th>\n",
       "      <td>5.195984e+09</td>\n",
       "      <td>2.120812e+08</td>\n",
       "      <td>130.000000</td>\n",
       "      <td>86.000000</td>\n",
       "      <td>16.000000</td>\n",
       "      <td>3.000000</td>\n",
       "      <td>100.000000</td>\n",
       "      <td>41.000000</td>\n",
       "      <td>8.000000</td>\n",
       "      <td>0.000000</td>\n",
       "      <td>...</td>\n",
       "      <td>0.000000</td>\n",
       "      <td>2.000000</td>\n",
       "      <td>9.000000</td>\n",
       "      <td>26.000000</td>\n",
       "      <td>4.000000</td>\n",
       "      <td>62.000000</td>\n",
       "      <td>75.000000</td>\n",
       "      <td>62.000000</td>\n",
       "      <td>62.000000</td>\n",
       "      <td>2.000000</td>\n",
       "    </tr>\n",
       "    <tr>\n",
       "      <th>max</th>\n",
       "      <td>5.207546e+09</td>\n",
       "      <td>1.041936e+09</td>\n",
       "      <td>132.000000</td>\n",
       "      <td>672.000000</td>\n",
       "      <td>95.000000</td>\n",
       "      <td>216.000000</td>\n",
       "      <td>100.000000</td>\n",
       "      <td>100.000000</td>\n",
       "      <td>106.000000</td>\n",
       "      <td>45.000000</td>\n",
       "      <td>...</td>\n",
       "      <td>8.000000</td>\n",
       "      <td>62.000000</td>\n",
       "      <td>10.000000</td>\n",
       "      <td>38.000000</td>\n",
       "      <td>5.000000</td>\n",
       "      <td>100.000000</td>\n",
       "      <td>100.000000</td>\n",
       "      <td>100.000000</td>\n",
       "      <td>100.000000</td>\n",
       "      <td>3.000000</td>\n",
       "    </tr>\n",
       "  </tbody>\n",
       "</table>\n",
       "<p>8 rows × 25 columns</p>\n",
       "</div>"
      ],
      "text/plain": [
       "           match_id    account_id   player_slot  Num messaggi tot  \\\n",
       "count  2.627600e+04  2.627600e+04  26276.000000      26276.000000   \n",
       "mean   5.183239e+09  1.926577e+08     66.149947         66.998364   \n",
       "std    4.734065e+07  1.806904e+08     64.006961         46.641531   \n",
       "min    0.000000e+00  1.110000e+02      0.000000          0.000000   \n",
       "25%    5.171207e+09  9.580534e+07      2.000000         35.000000   \n",
       "50%    5.183739e+09  1.308325e+08    128.000000         56.000000   \n",
       "75%    5.195984e+09  2.120812e+08    130.000000         86.000000   \n",
       "max    5.207546e+09  1.041936e+09    132.000000        672.000000   \n",
       "\n",
       "       % messaggi player  % messaggi tattici  % messaggi wheel  \\\n",
       "count       26276.000000        26276.000000      26276.000000   \n",
       "mean           10.615086            2.888263         63.002017   \n",
       "std            12.654521            6.397222         40.007557   \n",
       "min             0.000000            0.000000          0.000000   \n",
       "25%             1.000000            0.000000         25.000000   \n",
       "50%             6.000000            0.000000         80.000000   \n",
       "75%            16.000000            3.000000        100.000000   \n",
       "max            95.000000          216.000000        100.000000   \n",
       "\n",
       "       % messaggi custom  lung media custom  Num capital char  ...  \\\n",
       "count       26276.000000       26276.000000      26276.000000  ...   \n",
       "mean           24.633810           4.857322          0.295897  ...   \n",
       "std            33.723487           7.571231          1.637645  ...   \n",
       "min             0.000000           0.000000          0.000000  ...   \n",
       "25%             0.000000           0.000000          0.000000  ...   \n",
       "50%             5.000000           2.000000          0.000000  ...   \n",
       "75%            41.000000           8.000000          0.000000  ...   \n",
       "max           100.000000         106.000000         45.000000  ...   \n",
       "\n",
       "       Num escalamzioni!  Num messaggi post kill  Rank num messaggi  \\\n",
       "count       26276.000000            26276.000000       26276.000000   \n",
       "mean            0.003387                1.605419           6.124144   \n",
       "std             0.101876                3.295454           3.052718   \n",
       "min             0.000000                0.000000           1.000000   \n",
       "25%             0.000000                0.000000           4.000000   \n",
       "50%             0.000000                0.000000           7.000000   \n",
       "75%             0.000000                2.000000           9.000000   \n",
       "max             8.000000               62.000000          10.000000   \n",
       "\n",
       "                age      economic  extroversion  agreeableness  \\\n",
       "count  26276.000000  26276.000000  26276.000000   26276.000000   \n",
       "mean      23.170041      2.990257     47.614934      61.207946   \n",
       "std        4.489244      0.842440     22.954460      22.303255   \n",
       "min       13.000000      1.000000      0.000000       0.000000   \n",
       "25%       20.000000      3.000000     37.000000      50.000000   \n",
       "50%       23.000000      3.000000     50.000000      62.000000   \n",
       "75%       26.000000      4.000000     62.000000      75.000000   \n",
       "max       38.000000      5.000000    100.000000     100.000000   \n",
       "\n",
       "       conscientiousness   neuroticism      openness  \n",
       "count       26276.000000  26276.000000  26276.000000  \n",
       "mean           48.963845     41.493644      1.770247  \n",
       "std            21.461427     25.140774      0.867995  \n",
       "min             0.000000      0.000000      0.000000  \n",
       "25%            37.000000     25.000000      1.000000  \n",
       "50%            50.000000     37.000000      2.000000  \n",
       "75%            62.000000     62.000000      2.000000  \n",
       "max           100.000000    100.000000      3.000000  \n",
       "\n",
       "[8 rows x 25 columns]"
      ]
     },
     "execution_count": 8,
     "metadata": {},
     "output_type": "execute_result"
    }
   ],
   "source": [
    "#load the data\n",
    "df = pd.read_csv('Feature_chat.csv', sep = ',')\n",
    "\n",
    "#remove the data samples with missing values (NaN)\n",
    "df = df.dropna() \n",
    "df['openness'] = np.where(df['openness'] <=25 , 0, df['openness'])\n",
    "\n",
    "df['openness'] = np.where(\n",
    "   (df['openness'] <=50) & (df['openness'] > 25) , 1, df['openness']\n",
    "   )\n",
    "\n",
    "df['openness'] = np.where(\n",
    "   (df['openness'] <=75) & (df['openness'] > 50) , 2, df['openness']\n",
    "   )\n",
    "\n",
    "df['openness'] = np.where(\n",
    "   (df['openness'] <=100) & (df['openness'] > 75) , 3, df['openness']\n",
    "   )\n",
    "\n",
    "\n",
    "df['gender'] = np.where(df['gender'] ==\"male\" , 1, df['gender'])\n",
    "df['gender'] = np.where(df['gender'] ==\"female\" , 0, df['gender'])\n",
    "\n",
    "\n",
    "\n",
    "df.describe()"
   ]
  },
  {
   "cell_type": "markdown",
   "metadata": {},
   "source": [
    "Get the feature matrix and the vector of target values. We want to predict the ECONOMIC by using features other than id as input."
   ]
  },
  {
   "cell_type": "code",
   "execution_count": 9,
   "metadata": {},
   "outputs": [
    {
     "name": "stdout",
     "output_type": "stream",
     "text": [
      "Amount of data: 26276\n",
      "[3 3 3 3 3 3 3 3 3 3 3 3 3 3 3 3 3 3 3 2 2 2 2 2 2 2 2 2 2 2 2 2 2 2 2 2 2\n",
      " 2 2 2 2 2 2 2 2 2 2 2 2 2 2 2 2 2 2 2 2 2 2 2 2 2 2 2 2 2 2 2 2 2 2 2 2 2\n",
      " 2 2 2 2 2 2 2 2 2 2 2 2 2 2 2 2 2 2 2 2 2 2 2 2 2 2 2 2 2 2 2 2 2 2 2 2 2\n",
      " 2 2 2 2 2 2 2 2 2 2 2 2 2 2 2 2 2 2 2 2 2 2 2 2 1 2 1 1 1 1 1 1 1 1 1 1 1\n",
      " 1 1 1 1 1 1 1 1 1 1 1 1 0 0 0 0 0 0 0 0 0 0 0 0 0 0 0 0 0 0 0 0 0 0 0 0 0\n",
      " 0 0 0 0 0 0 0 0 0 0 0 0 0 0 0 0 0 0 0 0 0 0 0 0 0 0 0 0 0 0 0 0 0 0 0 0 0\n",
      " 0 0 0 0 2 2 2 2 2 2 2 2 2 2 2 2 2 2 2 2 2 2 2 2 2 2 2 2 2 2 2 2 2 2 2 2 2\n",
      " 2 2 2 2 2 2 2 2 2 2 2 2 2 2 2 2 2 2 2 2 2 2 2 1 2 1 1 1 1 1 1 1 1 1 1 1 1\n",
      " 1 1 1 1 1 1 1 1 1 1 1 1 1 1 1 1 1 1 1 1 1 1 1 1 1 1 2 2 2 2 2 1 2 2 2 2 2\n",
      " 2 2 2 2 2 2 2 2 2 2 2 2 2 2 2 2 2 2 2 2 2 2 2 2 2 2 2 2 2 2 2 2 2 2 2 2 2\n",
      " 2 2 2 2 2 2 2 2 2 2 2 2 2 2 2 2 2 2 2 2 2 2 2 2 2 2 2 2 2 2 2 2 2 2 2 2 2\n",
      " 2 2 2 2 2 2 2 2 2 2 2 2 2 2 2 2 2 2 2 2 2 2 2 2 2 2 2 2 2 2 2 2 2 2 2 2 2\n",
      " 2 2 2 2 2 2 2 2 1 1 1 2 1 1 1 1 1 1 1 1 1 1 1 1 1 1 1 1 1 1 1 1 1 1 1 1 1\n",
      " 1 1 1 1 1 1 1 1 1 1 1 1 1 1 1 1 1 1 1]\n"
     ]
    }
   ],
   "source": [
    "Data = df.values\n",
    "# m = number of input samples\n",
    "m = Data.shape[0]\n",
    "print(\"Amount of data:\",m)\n",
    "\n",
    "Y = Data[:m,27]   #LA COLONNA 22 è ECONOMIC ,21 OCCUPATION, 23 extroversion  20 GENDER 24 agreeblenes #27 openness\n",
    "\n",
    "df['messaggi_tot_player'] = df['% messaggi player']*df['Num messaggi tot']\n",
    "#print(df['messaggi_tot_player'])\n",
    "\n",
    "\n",
    "#X = df[[\"messaggi_tot_player\",\"% messaggi tattici\",\"% messaggi custom\",\"Num good behaviour\",\"Num bad behaviour\"]]\n",
    "\n",
    "\n",
    "#X = df[[\"messaggi_tot_player\",\"% messaggi tattici\",\"% messaggi custom\"]]\n",
    "\n",
    "\n",
    "X = Data[:m,3:19]       #prende da 0-m come numero di riga; e dalla 4 colonna in poi come COLONNA\n",
    "\n",
    "\n",
    "#print(X.describe())\n",
    "\n",
    "\n",
    "\n",
    "#feature_names = df.columns[3:19]\n",
    "#print(X)\n",
    "\n",
    "\n",
    "print(Y[0:500])\n",
    "\n",
    "#print(feature_names)"
   ]
  },
  {
   "cell_type": "code",
   "execution_count": null,
   "metadata": {},
   "outputs": [],
   "source": []
  },
  {
   "cell_type": "markdown",
   "metadata": {},
   "source": [
    "We split the $m$ samples of the data into 3 parts: one will be used for training and choosing the parameters, one for choosing among different models, and one for testing. The part for training and choosing the parameters will consist of $m_{train}=2/3 m$ samples, the one for choosing among different models will consist of $m_{val}= (m - m_{train})/2$ samples, while the other part consists of $m_{test}=m - m_{train} - m_{val}$ samples."
   ]
  },
  {
   "cell_type": "code",
   "execution_count": 10,
   "metadata": {},
   "outputs": [
    {
     "name": "stdout",
     "output_type": "stream",
     "text": [
      "Amount of data for training and deciding parameters: 17517\n",
      "Amount of data for validation (choosing among different models): 4379\n",
      "Amount of data for test: 4380\n",
      "ci sono nel Ttrain set prima di SMOTE: 5949\n",
      "ci sono nel Ttrain set dopo di SMOTE: 6502\n",
      "4000\n"
     ]
    }
   ],
   "source": [
    "from imblearn.over_sampling import SMOTE\n",
    "\n",
    "\n",
    "\n",
    "# Split data into train (2/3 of samples), validation (1/6 of samples), and test data (the rest)\n",
    "m_train = int(2./3.*m)\n",
    "m_val = int((m-m_train)/2.)\n",
    "m_test = m - m_train - m_val\n",
    "\n",
    "\n",
    "\n",
    "#m_val = 1000\n",
    "#m_test = 1000\n",
    "#m_train = m-2000\n",
    "print(\"Amount of data for training and deciding parameters:\",m_train)\n",
    "print(\"Amount of data for validation (choosing among different models):\",m_val)\n",
    "print(\"Amount of data for test:\",m_test)\n",
    "from sklearn.model_selection import train_test_split\n",
    "\n",
    "#Xtrain_and_val, Ytrain_and_val is the part of data for training and validation\n",
    "#Xtest, Ytest is the part of data for testing\n",
    "Xtrain_and_val, Xtest, Ytrain_and_val, Ytest = train_test_split(X, Y, test_size=m_test/m, random_state=numero_di_matricola)\n",
    "\n",
    "#if you need to consider a specific training and validation split, use\n",
    "#Xtrain, Ytrain for training and Xval, Yval for validation\n",
    "\n",
    "\n",
    "Xtrain, Xval, Ytrain, Yval = train_test_split(Xtrain_and_val, Ytrain_and_val, test_size=m_val/(m_train+m_val), random_state=numero_di_matricola)\n",
    "\n",
    "\n",
    "Ytrain=Ytrain.astype('int')\n",
    "Ytest=Ytest.astype('int')\n",
    "\n",
    "\n",
    "\n",
    "\n",
    "counterF=0\n",
    "for elemento in Ytrain:\n",
    "  if (elemento==1):\n",
    "    counterF=counterF+1\n",
    "print(\"ci sono nel Ttrain set prima di SMOTE:\",counterF)\n",
    "\n",
    "\n",
    "\n",
    "#####################################\n",
    "#SMOTE \n",
    "\n",
    "\n",
    "X_resampled, y_resampled = SMOTE().fit_resample(Xtrain, Ytrain)\n",
    "#Xtrain_and_val_resample, Ytrain_and_val_resample= SMOTE().fit_resample(Xtrain_and_val, Ytrain_and_val)\n",
    "#Xval_resampled,Yval_resampled = SMOTE().fit_resample(Xval, Yval)\n",
    "\n",
    "counterF=0\n",
    "for elemento in y_resampled:\n",
    "  if (elemento==1):\n",
    "    counterF=counterF+1\n",
    "print(\"ci sono nel Ttrain set dopo di SMOTE:\",counterF)\n",
    "\n",
    "\n",
    "\n",
    "\n",
    "\n",
    "\n",
    "X_only_1=[]\n",
    "Y_only_1=[]\n",
    "\n",
    "X_only_2=[]\n",
    "Y_only_2=[]\n",
    "\n",
    "X_only_3=[]\n",
    "Y_only_3=[]\n",
    "\n",
    "X_only_0=[]\n",
    "Y_only_0=[]\n",
    "\n",
    "\n",
    "\n",
    "\n",
    "\n",
    "counter0=0\n",
    "for i in range(0,len(y_resampled)):\n",
    "    if (y_resampled[i]==0): \n",
    "        X_only_0.append(X_resampled[i])\n",
    "        Y_only_0.append(y_resampled[i])\n",
    "        counter0=counter0+1\n",
    "    \n",
    "    if(counter0==1000):\n",
    "        break\n",
    "\n",
    "        \n",
    "        \n",
    "counter1=0\n",
    "for i in range(0,len(y_resampled)):\n",
    "    if (y_resampled[i]==1): \n",
    "        X_only_1.append(X_resampled[i])\n",
    "        Y_only_1.append(y_resampled[i])\n",
    "        counter1=counter1+1\n",
    "    \n",
    "    if(counter1==1000):\n",
    "        break\n",
    "\n",
    "counter2=0\n",
    "for i in range(0,len(y_resampled)):\n",
    "    if (y_resampled[i]==2): \n",
    "        X_only_2.append(X_resampled[i])\n",
    "        Y_only_2.append(y_resampled[i])\n",
    "        counter2=counter2+1\n",
    "    \n",
    "    if(counter2==1000):\n",
    "        break\n",
    "        \n",
    "        \n",
    "counter3=0\n",
    "for i in range(0,len(y_resampled)):\n",
    "    if (y_resampled[i]==3): \n",
    "        X_only_3.append(X_resampled[i])\n",
    "        Y_only_3.append(y_resampled[i])\n",
    "        counter3=counter3+1\n",
    "    \n",
    "    if(counter3==1000):\n",
    "        break\n",
    "\n",
    "        \n",
    "#print(X_only_male)\n",
    "\n",
    "X_4000_balance= X_only_1 + X_only_2+X_only_3+X_only_0\n",
    "Y_4000_balance= Y_only_1 + Y_only_2+Y_only_3+Y_only_0\n",
    "\n",
    "\n",
    "\n",
    "\n",
    "print(len(X_4000_balance))\n",
    "#print(Y_4000_balance[1001:1100])\n",
    "\n",
    "\n",
    "\n",
    "    \n",
    "    \n",
    "\n",
    "\n",
    "\n",
    "\n",
    "\n"
   ]
  },
  {
   "cell_type": "markdown",
   "metadata": {},
   "source": [
    "Let's scale the data."
   ]
  },
  {
   "cell_type": "code",
   "execution_count": 11,
   "metadata": {},
   "outputs": [],
   "source": [
    "# Data pre-processing\n",
    "from sklearn import preprocessing\n",
    "scaler = preprocessing.StandardScaler().fit(Xtrain)\n",
    "Xtrain_scaled = scaler.transform(X_4000_balance)\n",
    "Xtrain_and_val_scaled = scaler.transform(Xtrain_and_val)\n",
    "Xval_scaled = scaler.transform(Xval)\n",
    "Xtest_scaled = scaler.transform(Xtest)"
   ]
  },
  {
   "cell_type": "code",
   "execution_count": null,
   "metadata": {},
   "outputs": [],
   "source": []
  },
  {
   "cell_type": "markdown",
   "metadata": {},
   "source": [
    "#svm\n"
   ]
  },
  {
   "cell_type": "code",
   "execution_count": null,
   "metadata": {},
   "outputs": [],
   "source": []
  },
  {
   "cell_type": "code",
   "execution_count": 12,
   "metadata": {},
   "outputs": [
    {
     "name": "stdout",
     "output_type": "stream",
     "text": [
      "RESULTS FOR LINEAR KERNEL\n",
      "\n",
      "Best parameters set found:\n",
      "Best parameters set found: {'C': 1}\n",
      "Score with best parameters: 0.293\n",
      "\n",
      "All scores on the grid: [0.293   0.29275]\n"
     ]
    }
   ],
   "source": [
    "\n",
    "#import SVC\n",
    "from sklearn.svm import SVC\n",
    "#import for Cross-Validation\n",
    "from sklearn.model_selection import GridSearchCV\n",
    "\n",
    "\n",
    "# parameters for linear SVM\n",
    "parameters = {'C': [1,10]}\n",
    "\n",
    "#run linear SVM\n",
    "linear_SVM = SVC(kernel='linear')\n",
    "\n",
    "#find best model uusing 5-fold CV \n",
    "#and train it using all the training data\n",
    "\n",
    "clf = GridSearchCV(linear_SVM, parameters)\n",
    "clf.fit(Xtrain_scaled,Y_4000_balance)\n",
    "\n",
    "print ('RESULTS FOR LINEAR KERNEL\\n')\n",
    "\n",
    "print(\"Best parameters set found:\")\n",
    "results = clf.cv_results_\n",
    "print(\"Best parameters set found:\", clf.best_params_)\n",
    "print(\"Score with best parameters:\", clf.best_score_)\n",
    "print(\"\\nAll scores on the grid:\", results[\"mean_test_score\"])\n",
    "\n",
    "\n"
   ]
  },
  {
   "cell_type": "code",
   "execution_count": 13,
   "metadata": {},
   "outputs": [
    {
     "name": "stdout",
     "output_type": "stream",
     "text": [
      "Best SVM training Accuracy: 0.307000\n",
      "Best SVM test Accuracy: 0.285616\n"
     ]
    }
   ],
   "source": [
    "best_SVM = clf.best_estimator_\n",
    "\n",
    "# fit the model on the entire training set\n",
    "best_SVM.fit(Xtrain_scaled,Y_4000_balance)\n",
    "\n",
    "#get the training and test error\n",
    "training_error = best_SVM.score(Xtrain_scaled,Y_4000_balance)\n",
    "test_error = best_SVM.score(Xtest,Ytest)\n",
    "\n",
    "print (\"Best SVM training Accuracy: %f\" % training_error)\n",
    "print (\"Best SVM test Accuracy: %f\" % test_error)"
   ]
  },
  {
   "cell_type": "code",
   "execution_count": null,
   "metadata": {},
   "outputs": [],
   "source": []
  },
  {
   "cell_type": "code",
   "execution_count": null,
   "metadata": {},
   "outputs": [],
   "source": []
  },
  {
   "cell_type": "code",
   "execution_count": null,
   "metadata": {},
   "outputs": [],
   "source": []
  },
  {
   "cell_type": "code",
   "execution_count": 14,
   "metadata": {},
   "outputs": [
    {
     "name": "stdout",
     "output_type": "stream",
     "text": [
      "\n",
      "RESULTS FOR rbf KERNEL\n",
      "\n",
      "Best parameters set found: {'C': 1, 'gamma': 0.1}\n",
      "Score with best parameters: 0.3065\n",
      "\n",
      "All scores on the grid: [0.295   0.3065  0.2845  0.30025 0.30225 0.28225 0.29525 0.302   0.279  ]\n"
     ]
    }
   ],
   "source": [
    "# parameters for rbf SVM\n",
    "parameters = {'C': [1, 10, 100],'gamma':[0.01,0.1,1.]}\n",
    "#run SVM with rbf kernel\n",
    "rbf_SVM = SVC(kernel='rbf')\n",
    "clf_rbf = GridSearchCV(rbf_SVM, parameters)\n",
    "clf_rbf.fit(Xtrain_scaled,Y_4000_balance)\n",
    "\n",
    "print ('\\nRESULTS FOR rbf KERNEL\\n')\n",
    "\n",
    "results = clf_rbf.cv_results_\n",
    "print(\"Best parameters set found:\", clf_rbf.best_params_)\n",
    "print(\"Score with best parameters:\", clf_rbf.best_score_)\n",
    "print(\"\\nAll scores on the grid:\", results[\"mean_test_score\"])\n"
   ]
  },
  {
   "cell_type": "markdown",
   "metadata": {},
   "source": []
  },
  {
   "cell_type": "code",
   "execution_count": 15,
   "metadata": {},
   "outputs": [
    {
     "name": "stdout",
     "output_type": "stream",
     "text": [
      "Best SVM training Accuracy: 0.393000\n",
      "Best SVM test Accuracy: 0.365753\n"
     ]
    }
   ],
   "source": [
    "#get training and test error for the best SVM model from CV\n",
    "best_SVM = clf_rbf.best_estimator_\n",
    "\n",
    "# fit the model on the entire training set\n",
    "best_SVM.fit(Xtrain_scaled,Y_4000_balance)\n",
    "\n",
    "#get the training and test error\n",
    "training_error = best_SVM.score(Xtrain_scaled,Y_4000_balance)\n",
    "test_error = best_SVM.score(Xtest,Ytest)\n",
    "\n",
    "print (\"Best SVM training Accuracy: %f\" % training_error)\n",
    "print (\"Best SVM test Accuracy: %f\" % test_error)"
   ]
  },
  {
   "cell_type": "markdown",
   "metadata": {},
   "source": []
  },
  {
   "cell_type": "markdown",
   "metadata": {},
   "source": []
  },
  {
   "cell_type": "markdown",
   "metadata": {},
   "source": []
  },
  {
   "cell_type": "code",
   "execution_count": 16,
   "metadata": {},
   "outputs": [
    {
     "data": {
      "text/plain": [
       "GaussianNB()"
      ]
     },
     "execution_count": 16,
     "metadata": {},
     "output_type": "execute_result"
    }
   ],
   "source": [
    "\n",
    "from sklearn.naive_bayes import GaussianNB\n",
    "nb = GaussianNB()\n",
    "nb.fit(Xtrain_scaled,Y_4000_balance)\n"
   ]
  },
  {
   "cell_type": "code",
   "execution_count": 17,
   "metadata": {},
   "outputs": [
    {
     "name": "stdout",
     "output_type": "stream",
     "text": [
      "Naive Bayes score:  0.36484018264840185\n"
     ]
    }
   ],
   "source": [
    "print(\"Naive Bayes score: \",nb.score(Xtest_scaled, Ytest))"
   ]
  },
  {
   "cell_type": "code",
   "execution_count": 18,
   "metadata": {},
   "outputs": [],
   "source": [
    "#senza smote ora "
   ]
  },
  {
   "cell_type": "code",
   "execution_count": 19,
   "metadata": {},
   "outputs": [
    {
     "name": "stdout",
     "output_type": "stream",
     "text": [
      "RESULTS FOR LINEAR KERNEL\n",
      "\n",
      "Best parameters set found:\n",
      "Best parameters set found: {'C': 1}\n",
      "Score with best parameters: 0.38\n",
      "\n",
      "All scores on the grid: [0.38 0.38]\n"
     ]
    }
   ],
   "source": [
    "# Data pre-processing\n",
    "from sklearn import preprocessing\n",
    "scaler = preprocessing.StandardScaler().fit(Xtrain)\n",
    "Xtrain_scaled = scaler.transform(Xtrain)\n",
    "Xtrain_and_val_scaled = scaler.transform(Xtrain_and_val)\n",
    "Xval_scaled = scaler.transform(Xval)\n",
    "Xtest_scaled = scaler.transform(Xtest)\n",
    "\n",
    "\n",
    "#import SVC\n",
    "from sklearn.svm import SVC\n",
    "#import for Cross-Validation\n",
    "from sklearn.model_selection import GridSearchCV\n",
    "\n",
    "\n",
    "# parameters for linear SVM\n",
    "parameters = {'C': [1,10]}\n",
    "\n",
    "#run linear SVM\n",
    "linear_SVM = SVC(kernel='linear')\n",
    "\n",
    "#find best model uusing 5-fold CV \n",
    "#and train it using all the training data\n",
    "\n",
    "clf = GridSearchCV(linear_SVM, parameters)\n",
    "clf.fit(Xtrain_scaled[0:4000],Ytrain[0:4000])\n",
    "\n",
    "print ('RESULTS FOR LINEAR KERNEL\\n')\n",
    "\n",
    "print(\"Best parameters set found:\")\n",
    "results = clf.cv_results_\n",
    "print(\"Best parameters set found:\", clf.best_params_)\n",
    "print(\"Score with best parameters:\", clf.best_score_)\n",
    "print(\"\\nAll scores on the grid:\", results[\"mean_test_score\"])\n"
   ]
  },
  {
   "cell_type": "code",
   "execution_count": 20,
   "metadata": {},
   "outputs": [
    {
     "name": "stdout",
     "output_type": "stream",
     "text": [
      "Best SVM training Accuracy: 0.386000\n",
      "Best SVM test Accuracy: 0.348858\n"
     ]
    }
   ],
   "source": [
    "best_SVM = clf.best_estimator_\n",
    "\n",
    "# fit the model on the entire training set\n",
    "best_SVM.fit(Xtrain_scaled[0:4000],Ytrain[0:4000])\n",
    "\n",
    "#get the training and test error\n",
    "training_error = best_SVM.score(Xtrain_scaled[0:4000],Ytrain[0:4000])\n",
    "test_error = best_SVM.score(Xtest,Ytest)\n",
    "\n",
    "print (\"Best SVM training Accuracy: %f\" % training_error)\n",
    "print (\"Best SVM test Accuracy: %f\" % test_error)"
   ]
  },
  {
   "cell_type": "code",
   "execution_count": 21,
   "metadata": {},
   "outputs": [
    {
     "name": "stdout",
     "output_type": "stream",
     "text": [
      "\n",
      "RESULTS FOR rbf KERNEL\n",
      "\n",
      "Best parameters set found: {'C': 100, 'gamma': 0.01}\n",
      "Score with best parameters: 0.381\n",
      "\n",
      "All scores on the grid: [0.37975 0.38025 0.362   0.37825 0.36975 0.35425 0.381   0.35875 0.34225]\n"
     ]
    }
   ],
   "source": [
    "# parameters for rbf SVM\n",
    "parameters = {'C': [1, 10, 100],'gamma':[0.01,0.1,1.]}\n",
    "#run SVM with rbf kernel\n",
    "rbf_SVM = SVC(kernel='rbf')\n",
    "clf_rbf = GridSearchCV(rbf_SVM, parameters)\n",
    "clf_rbf.fit(Xtrain_scaled[0:4000],Ytrain[0:4000])\n",
    "\n",
    "print ('\\nRESULTS FOR rbf KERNEL\\n')\n",
    "\n",
    "results = clf_rbf.cv_results_\n",
    "print(\"Best parameters set found:\", clf_rbf.best_params_)\n",
    "print(\"Score with best parameters:\", clf_rbf.best_score_)\n",
    "print(\"\\nAll scores on the grid:\", results[\"mean_test_score\"])\n"
   ]
  },
  {
   "cell_type": "code",
   "execution_count": 22,
   "metadata": {},
   "outputs": [
    {
     "name": "stdout",
     "output_type": "stream",
     "text": [
      "Best SVM training Accuracy: 0.400925\n",
      "Best SVM test Accuracy: 0.225571\n"
     ]
    }
   ],
   "source": [
    "#get training and test error for the best SVM model from CV\n",
    "best_SVM = clf_rbf.best_estimator_\n",
    "\n",
    "# fit the model on the entire training set\n",
    "best_SVM.fit(Xtrain_scaled[0:4000],Ytrain[0:4000])\n",
    "\n",
    "#get the training and test error\n",
    "training_error = best_SVM.score(Xtrain_scaled,Ytrain)\n",
    "test_error = best_SVM.score(Xtest,Ytest)\n",
    "\n",
    "print (\"Best SVM training Accuracy: %f\" % training_error)\n",
    "print (\"Best SVM test Accuracy: %f\" % test_error)"
   ]
  },
  {
   "cell_type": "code",
   "execution_count": 23,
   "metadata": {},
   "outputs": [
    {
     "data": {
      "text/plain": [
       "GaussianNB()"
      ]
     },
     "execution_count": 23,
     "metadata": {},
     "output_type": "execute_result"
    }
   ],
   "source": [
    "\n",
    "from sklearn.naive_bayes import GaussianNB\n",
    "nb = GaussianNB()\n",
    "nb.fit(Xtrain_scaled,Ytrain)"
   ]
  },
  {
   "cell_type": "code",
   "execution_count": 24,
   "metadata": {},
   "outputs": [
    {
     "name": "stdout",
     "output_type": "stream",
     "text": [
      "Naive Bayes score:  0.12899543378995434\n"
     ]
    }
   ],
   "source": [
    "print(\"Naive Bayes score: \",nb.score(Xtest_scaled, Ytest))"
   ]
  },
  {
   "cell_type": "code",
   "execution_count": null,
   "metadata": {},
   "outputs": [],
   "source": []
  },
  {
   "cell_type": "code",
   "execution_count": null,
   "metadata": {},
   "outputs": [],
   "source": []
  }
 ],
 "metadata": {
  "kernelspec": {
   "display_name": "Python 3",
   "language": "python",
   "name": "python3"
  },
  "language_info": {
   "codemirror_mode": {
    "name": "ipython",
    "version": 3
   },
   "file_extension": ".py",
   "mimetype": "text/x-python",
   "name": "python",
   "nbconvert_exporter": "python",
   "pygments_lexer": "ipython3",
   "version": "3.6.7"
  }
 },
 "nbformat": 4,
 "nbformat_minor": 4
}
